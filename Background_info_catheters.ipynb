{
 "cells": [
  {
   "cell_type": "markdown",
   "id": "723f4dc8-68fc-4c94-b44a-df6a2cdb5261",
   "metadata": {},
   "source": [
    "## Background info: Catheters"
   ]
  },
  {
   "cell_type": "markdown",
   "id": "b7c5aaa9-6dad-4734-a57c-99becc62a17a",
   "metadata": {},
   "source": [
    "### What are catheters?"
   ]
  },
  {
   "cell_type": "markdown",
   "id": "09465441-ea60-464b-b33f-91c9d3557f39",
   "metadata": {},
   "source": [
    "A thin flexible tube that can come typically in either latex, PVC or silicone, that is inserted into the body to allow either delivery, drainage of fluids or gases, access by surigical instruments, create negative pressure inside the body, and also perform a wide variety of other tasks depending on the type of catheter. An example of this is a foley catheter which is a urinary catheter inserted into the bladder to allow urine drainage in patients."
   ]
  },
  {
   "cell_type": "markdown",
   "id": "a653ee6b-b310-4822-9e1f-7b629df78f95",
   "metadata": {},
   "source": [
    "After insertion, catheters are still prone to moving. For example, the foley catheter is held in place inside the bladder by a small balloon inserted along side the catheter, while this prevents the catheter from falling out completely, the catheter can still move normally 2 to 5 cm from its initial position. This in turn, makes it important to frequently check the inserted catheter in patients to make sure that it is still in its correct position and hasn't moved too much where it leads to complications in the patient."
   ]
  },
  {
   "cell_type": "markdown",
   "id": "4361c831-2986-4a00-8a16-23e672261557",
   "metadata": {},
   "source": [
    "Catheters can be used for either short or long term treatment. So it is vital that catheters are inserted correctly to not lead to serious complications such as death to the patient. Which is why it is important to find a method that can accurately and efficiently identify the alignment of catheters that reduces manual checking and human error."
   ]
  },
  {
   "cell_type": "markdown",
   "id": "da5c08db-dee9-46af-821a-4e3bb43c9dab",
   "metadata": {},
   "source": [
    "The dataset provided contains catheters that are specifically only located in the chest area which have been identified through chest radiography (x-rays). Additionally, the data set only features 4 different types of possible catheters that appear in the scans which are ETT, NGT, CVC and Swan Ganz Catheter."
   ]
  },
  {
   "cell_type": "markdown",
   "id": "f64dc748-0941-42b4-9f6c-4e0469bb9e31",
   "metadata": {},
   "source": [
    "## Reading the Data set"
   ]
  },
  {
   "cell_type": "markdown",
   "id": "a75d1411-c25e-44bb-80bc-460b50173534",
   "metadata": {},
   "source": [
    "### Position labelling (Normal, Borderline, Abnormal)"
   ]
  },
  {
   "cell_type": "markdown",
   "id": "66b69b5f-5c80-40d6-8e3f-26baac0b884c",
   "metadata": {},
   "source": [
    "The **normal** catergory includes lines that were appropriately positioned and do not require repositioning. This is the ideal scenario that we want to find in our patients."
   ]
  },
  {
   "cell_type": "markdown",
   "id": "b5ec7bc2-dc31-4369-bddd-7b1cd5f62059",
   "metadata": {},
   "source": [
    "The **borderline** catergory includes lines that would ideally require some repositioning but would in most cases still function adequately in their current position."
   ]
  },
  {
   "cell_type": "markdown",
   "id": "87c51000-97a5-46ad-85ce-80bea67dd1c1",
   "metadata": {},
   "source": [
    "The **abnormal** catergory includes lines that require immediate repositioning. Leaving it unchecked would mean serious complications for our patients so being able to have high accuracy identifying abnormal catheters is vital for our model."
   ]
  },
  {
   "cell_type": "markdown",
   "id": "1c39ad66-fb4c-4be9-98de-935c7dc66739",
   "metadata": {},
   "source": [
    "### The 4 types of catheters (ETT, NGT, CVC and Swan Ganz Catheter)"
   ]
  },
  {
   "cell_type": "markdown",
   "id": "33d7792c-b02c-49ab-9a12-43d700a252a6",
   "metadata": {},
   "source": [
    "#### ETT (Endotracheal Tube)"
   ]
  },
  {
   "cell_type": "markdown",
   "id": "34810005-b4d1-473c-b8aa-d22e7d1f5822",
   "metadata": {},
   "source": [
    "A tube that is constructed out of PVC which inserted between the vocal cords through the trachea to provide oxygen and inhaled gases to the lungs. It is is also utilised to minimize aspiration, isolate a lung, administer medications and prevent airway fires. Additionally, serves to protect the lungs from contamination, such as gastric contents and blood. A common concern with the ETT is the devolpment of infections such as ventilator-associated pneumonia (VAP), which can form around the cuffs of the tube after possible catheter movement."
   ]
  },
  {
   "cell_type": "markdown",
   "id": "9c62fc6a-afd8-4bd3-954a-a53d0164321d",
   "metadata": {},
   "source": [
    "#### NGT (Nasogastric Tube)"
   ]
  },
  {
   "cell_type": "markdown",
   "id": "91341d85-5aa7-4707-aa69-fba5fcfeae38",
   "metadata": {},
   "source": [
    "A plastic tube that temporarily used for medial purposes. Designed to pass through your nasal cavity into your throat and down through your esophagus into your stomach to deliver substances to your stomach or draw them out (nasogastric means nose to stomach). Commonly used for gastroic suction and tube feeding. There are two types of nasogastric tubes but the dataset does not distinguish between them."
   ]
  },
  {
   "cell_type": "markdown",
   "id": "19e036cb-e8e1-4c9f-a758-123e30456739",
   "metadata": {},
   "source": [
    "#### CVC (Central Venous Catheter)"
   ]
  },
  {
   "cell_type": "markdown",
   "id": "13e41058-f0a9-4919-b05d-8c762b8a2842",
   "metadata": {},
   "source": [
    "Typically a silicone tube that enters your body through a vein and travels to the tip of the large vein of your heart (vena cava). This type of catheter provides access to the bloodstream easily reducing the need for vein access with needles. Typically used for long term medications. Crucial that this catheter is correctly positioned every time for the patient."
   ]
  },
  {
   "cell_type": "markdown",
   "id": "465d195b-f135-442d-bcc6-110bcca35381",
   "metadata": {},
   "source": [
    "#### Swan Ganz Catheter"
   ]
  },
  {
   "cell_type": "markdown",
   "id": "e94d3eb0-8e19-4344-9a14-1ab0752f36b1",
   "metadata": {},
   "source": [
    "Similar to the CVC, it connects to the heart but to the arteries that lead to the lungs. This is done to monitor the hearts function, blood flow, and pressures in and around the heart. This is not a long form treatment. This is a relatively short test that is done in hospital to examine the heart. Then removed shortly after. Unlike all the other types of catheters this one is used for examination not treatment."
   ]
  },
  {
   "cell_type": "markdown",
   "id": "525072e0-d871-4396-8804-51a62676f222",
   "metadata": {},
   "source": [
    "## References"
   ]
  },
  {
   "cell_type": "markdown",
   "id": "e73a62d0-bffe-40cf-aded-94d7937cf33f",
   "metadata": {},
   "source": [
    "https://www.ncbi.nlm.nih.gov/books/NBK539747/#:~:text=Introduction,inhaled%20gases%20to%20the%20lungs.\n",
    "\n",
    "https://my.clevelandclinic.org/health/treatments/foley-catheter\n",
    "\n",
    "https://my.clevelandclinic.org/health/treatments/23927-central-venous-catheter\n",
    "\n",
    "https://my.clevelandclinic.org/health/treatments/24313-nasogastric-tube\n",
    "\n",
    "https://medlineplus.gov/ency/article/003870.htm#:~:text=To%20use%20the%20sharing%20features,the%20catheter%20should%20be%20placed.\n",
    "\n",
    "https://aacnjournals.org/ccnonline/article-abstract/27/4/32/1032/Ventilator-Associated-PneumoniaRisk-Factors-and?redirectedFrom=fulltext"
   ]
  }
 ],
 "metadata": {
  "kernelspec": {
   "display_name": "Custom Python Environment",
   "language": "python",
   "name": "myenv"
  },
  "language_info": {
   "codemirror_mode": {
    "name": "ipython",
    "version": 3
   },
   "file_extension": ".py",
   "mimetype": "text/x-python",
   "name": "python",
   "nbconvert_exporter": "python",
   "pygments_lexer": "ipython3",
   "version": "3.11.5"
  }
 },
 "nbformat": 4,
 "nbformat_minor": 5
}
